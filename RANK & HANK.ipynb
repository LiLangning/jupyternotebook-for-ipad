{
 "cells": [
  {
   "cell_type": "markdown",
   "metadata": {},
   "source": [
    "# RANK vs HANK"
   ]
  },
  {
   "cell_type": "markdown",
   "metadata": {},
   "source": [
    "## 1. RANK( The Basic New Keynesian Model) as a benchmark\n",
    "from Gali textbook chaper 3\n",
    "\n",
    "RANK-Representative-agent New Keynesian model"
   ]
  },
  {
   "cell_type": "markdown",
   "metadata": {},
   "source": [
    "### 1.1 Departure from the Assumptions of the Classical Monetary Economy\n",
    "1. imperfect competition in the goods market: each firm produces a differented good and sets the price(instead of taking the price as given).\n",
    "2. constrains on the price adjustment mechanism: a fraction($\\theta$) of firm cannot reset their prices in any given period.\n",
    "3. staggered price: characterized by random price durations.\n",
    "\n",
    "goal: analysis of monetary policy, fluctuations, and welfare."
   ]
  },
  {
   "cell_type": "markdown",
   "metadata": {},
   "source": [
    "### 1.2 Households\n",
    "a representative infinitely-lived houshold:\n",
    "\n",
    "$\\max\\limits_{\\{C_t\\},\\{N_t\\},\\{B_t\\}} E_0\\sum\\nolimits_{t=0}^{\\infty}\\beta^tU(C_t,N_t)$\n",
    "\n",
    "$\\mathrm{s.t.} \\int_0^1P_t(i)C_t(i)di+Q_tB_t\\le B_{t-1}+W_tN_t+T_t$\n",
    "\n",
    "$C_t$ is a consumption indext: \n",
    "$C_t\\equiv[\\int^1_0C_t(i)^{1-\\frac{1}{\\epsilon}}di]^\\frac{\\epsilon}{\\epsilon-1}$\n",
    "\n",
    "$C_t(i)$: the quantity of good $i$ consumed by the household in period t.\n",
    "\n",
    "$P_t(i)$: the price of good $i$\n",
    "\n",
    "$N_t$: hours of work\n",
    "\n",
    "$W_t$: nominal wage\n",
    "\n",
    "$B_t$: purchases of one-period bonds(at a price $Q_t$); a solvency condition $\\lim_{T\\to \\infty}E_t\\{B_T\\}\\ge0 $ for all $t$.\n",
    "\n",
    "$T_t$: a lump-sum component of income\n",
    "\n",
    "assumption of utility: $U(C_t,N_t)=\\frac{C_t^{1-\\sigma}}{1-\\sigma}-\\frac{N_t^{1+\\varphi}}{1+\\varphi}$"
   ]
  },
  {
   "cell_type": "markdown",
   "metadata": {},
   "source": [
    "#### Allocate Consumption Expenditure among the Different Goods:\n",
    "$\\max P_t C_t-\\int_0^1P_t(i)C_t(i)di$\n",
    "\n",
    "demand equations: $C_t(i)=(\\frac{P_t(i)}{P_t})^{-\\epsilon}C_t$\n",
    "\n",
    "aggregate price index: $P_t\\equiv[\\int_0^1P_t(i)^{1-\\epsilon}di]^\\frac{1}{1-\\epsilon}$\n",
    "\n",
    "$P_t C_t=\\int_0^1P_t(i)C_t(i)di$\n",
    "\n",
    "plugging into the budget constraint yields:\n",
    "$P_tC_t+Q_tB_t\\le B_{t-1}+W_tN_t+T_t$\n"
   ]
  },
  {
   "cell_type": "markdown",
   "metadata": {},
   "source": [
    "#### Lagrange\n",
    "$\\mathscr{L}= E_0\\sum\\nolimits_{t=0}^{\\infty}\\beta^t[U(C_t,N_t)+\\lambda_t (B_{t-1}+W_tN_t+T_t - P_tC_t-Q_tB_t)] $\n",
    "\n",
    "$\\frac{\\partial \\mathscr{L}}{\\partial C_t}: U_{c,t}-\\lambda_t P_t=0$\n",
    "\n",
    "$\\frac{\\partial \\mathscr{L}}{\\partial N_t}: U_{n,t}+\\lambda_t W_t=0$\n",
    "\n",
    "$\\frac{\\partial \\mathscr{L}}{\\partial B_t}: \\lambda_t(-Q_t)+\\beta \\lambda_{t+1}=0$"
   ]
  },
  {
   "cell_type": "markdown",
   "metadata": {},
   "source": [
    "#### Conditions\n",
    "$-\\frac{U_{n,t}}{U_{c,t}}=\\frac{W_t}{P_t}$\n",
    "\n",
    "$Q_t=\\beta E_t\\{\\frac{U_{c,t+1}}{U_{c,t}}\\frac{P_t}{P_{t+1}}\\}$"
   ]
  },
  {
   "cell_type": "markdown",
   "metadata": {},
   "source": [
    "### 1.3 Firms\n",
    "a continuum of firms indexed by $i \\in [0,1]$ with identical technology producing a differentiated good.\n",
    "\n",
    "production funtion: $Y_t(i)=A_tN_t(i)^{1-\\alpha}$\n",
    "\n",
    "$A_t$: the level of technology, common to all firms, evolve exogenously over time.\n",
    "\n",
    "All firms face an identical ioselastic demand: $C_t(i)=(\\frac{P_t(i)}{P_t})^{-\\epsilon}C_t$, take $P_t$ and $C_t$ as given.\n",
    "\n",
    "a fraction $\\theta$ keep prices unchanged, while $1-\\theta$ reset their prices. $\\theta$ becomes an index of price stickiness."
   ]
  },
  {
   "cell_type": "markdown",
   "metadata": {},
   "source": [
    "#### Aggregate Price Dynamics\n",
    "$\\Pi_t^{1-\\epsilon}=\\theta + (1-\\theta)(\\frac{P_t^*}{P_{t-1}})^{1-\\epsilon}$\n",
    "\n",
    "$\\Pi_t\\equiv\\frac{P_t}{P_{t-1}}$\n",
    "\n",
    "$P_t^*$: the price set in period t by $(1-\\theta)$ firms\n",
    "\n",
    "log-linear approximation:$\\pi_t=(1-\\theta)(p_t^*-p_{t-1})$"
   ]
  },
  {
   "cell_type": "markdown",
   "metadata": {},
   "source": [
    "#### Optimal Price Setting(find $P^*$)\n",
    "$\\max\\limits_{P_t^*}\\sum\\limits_{k=0}^\\infty \\theta^k E_t\\{Q_{t,t+k}(P_t^*Y_{t+k|t}-\\Psi_{t+k}(Y_{t+k|t}))\\}$\n",
    "\n",
    "$\\mathrm{s.t.}  Y_{t+k|t}=(\\frac{P_t^*}{P_{t+k}})^{-\\epsilon}C_{t+k}$\n",
    "\n",
    "$Q_{t,t+k}\\equiv\\beta^k (C_{t+k}/C_t)^\\sigma(P_t/P_{t+k})$: SDF for nominal payoffs\n",
    "\n",
    "$\\Psi_t(\\cdot)$:cost function\n",
    "\n",
    "$Y_{t+k|t}$:output in period $t+k$ for a firm that last reset its price in period $t$\n",
    "\n",
    "$\\partial P_t^*$: $\\sum\\limits_{k=0}^\\infty \\theta^k E_t\\{Q_{t,t+k}[Y_{t+k|t}+P_t^*\\frac{\\partial Y_{t+k|t}}{\\partial P_t^*} - \\psi_{t+k|t}\\frac{\\partial Y_{t+k|t}}{\\partial P_t^*}]\\}=0$\n",
    "\n",
    "plugging $\\frac{\\partial Y_{t+k|t}}{\\partial P_t^*}=C_{t+k}(\\frac{1}{P_{t+l}})^{-\\epsilon}(-\\epsilon)(P_t^*)^{-(\\epsilon+1)}=-\\epsilon Y_{t+k|t} \\frac{1}{P_t^*}$\n",
    "\n",
    "**optimal price-setting condition**: $\\sum\\limits_{k=0}^\\infty \\theta^k E_t\\{Q_{t,t+k}Y_{t+k|t}(P_t^*-\\mathcal{M}\\psi_{t+k|t})\\}=0$\n",
    "\n",
    "$\\psi_{t+k|t} \\equiv \\Psi^{'}(Y_{t+k|t})$:nominal marginal cost in period $t+k$\n",
    "\n",
    "$\\mathcal{M} \\equiv \\frac{\\epsilon}{\\epsilon-1}$:the desired or frictionless markup\\[if no price rigidities($\\theta=0$), $P_t^*=\\mathcal{M}\\psi_{t|t}$\\]\n",
    "\n",
    "**rewrite optimal price-setting condition:**\n",
    "$\\sum\\limits_{k=0}^\\infty \\theta^k E_t\\{Q_{t,t+k}Y_{t+k|t}(\\frac{P_t^*}{P_{t-1}}-\\mathcal{M}MC_{t+k|t}\\Pi_{t-1,t+k})\\}=0$\n",
    "\n",
    "$MC_{t+k|t}\\equiv \\psi_{t+k|t}/P_{t_k}$: real marginal cost in period $t+k$ for a firm whose price was last set int period $t$.\n",
    "\n",
    "$\\Pi_{t-1,t+k}\\equiv P_{t+k}/P_{t-1}$\n",
    "\n",
    "**in the steady state**:\n",
    "$P_t^*/P_{t-1}=1$, $\\Pi_{t-1,t+k}=1$, $Y_{t+k|t}=Y$, $MC_{t+k|t}=MC$, $Q_{t,t+k}=\\beta^k$, $MC=1/\\mathcal{M}$\n",
    "\n",
    "**first-order Taylor expansion:**\n",
    "$p_t^*-p_{t-1}=(1-\\beta \\theta)\\sum\\limits_{k=0}^\\infty (\\beta \\theta)^k E_t\\{\\widehat{mc}_{t+k|k}+(p_{t+k}-p_{t-1})\\}$\n",
    "\n",
    "$\\widehat{mc}_{t+k|t}\\equiv mc_{t+k|t}-mc$:log deviation of marginal cost from its steady state value $mc=-\\mu\\equiv -log\\mathcal{M}$\n",
    "\n",
    "**rewrite first-order Taylor expansion:**\n",
    "$p_t^*=\\mu +(1-\\beta\\theta)\\sum\\limits_{k=0}^\\infty(\\beta \\theta)^kE_t\\{mc_{t+k|t}+p_{t+k}\\}$\n",
    "\n",
    "intuition: firms reset their prices that corresponds to the desired markup over a weighted average of their current and expected nominal marginla costs."
   ]
  },
  {
   "cell_type": "markdown",
   "metadata": {},
   "source": [
    "### 1.4 Equilibrium"
   ]
  },
  {
   "cell_type": "markdown",
   "metadata": {},
   "source": [
    "**goods market clearing:**$Y_t(i)=C_t(i)$ and $Y_t=C_t$\n",
    "\n",
    "defind aggregate output:$Y_t\\equiv [\\int_0^1Y_t(i)^{1-\\frac{1}{\\epsilon}}]^{\\frac{\\epsilon}{\\epsilon-1}}$\n",
    "\n",
    "combine goods market clearing with consumer's Euler equition:$y_t = E_t{y_{t+1}}-\\frac{1}{\\sigma}(i_t-E_t\\{\\pi_{t+1}\\}-\\rho)$\n",
    "\n",
    "**labor market clearing**:\n",
    "$N_t=\\int_0^1N_t(i)di=\\int_0^1(\\frac{Y_t(i)}{A_t})^{\\frac{1}{1-\\alpha}}di=(\\frac{Y_t}{A_t})^{\\frac{1}{1-\\alpha}}\\int_0^1(\\frac{P_t(i)}{A_t})^\\frac{1}{1-\\alpha}di$\n",
    "\n",
    "take log:$(1-\\alpha)n_t=y_t-a_t+d_t$ \n",
    "\n",
    "where $dt\\equiv(1-\\alpha)log\\int_0^1(P_t(i)/P_t)^{-\\frac{\\epsilon}{1-\\alpha}}$ equal to 0 in a neighborhood of the steady state.\n",
    "\n",
    "so rewrite as $y_t=a_t+(1-\\alpha)n_t$\n",
    "\n",
    "**individual firm's marginal cost:** $mc_t=(w_t-p_t)-mpn_t=(w_t-p_t)-(a_t-\\alpha n_t)-log(1-\\alpha)=(w_t-p_t)-\\frac{1}{1-\\alpha}(a_t-\\alpha y_t)-log(1-\\alpha)$\n",
    "\n",
    "$mpn_t$:average marginal product of labor"
   ]
  },
  {
   "cell_type": "code",
   "execution_count": null,
   "metadata": {},
   "outputs": [],
   "source": []
  }
 ],
 "metadata": {
  "kernelspec": {
   "display_name": "Python 3",
   "language": "python",
   "name": "python3"
  },
  "language_info": {
   "codemirror_mode": {
    "name": "ipython",
    "version": 3
   },
   "file_extension": ".py",
   "mimetype": "text/x-python",
   "name": "python",
   "nbconvert_exporter": "python",
   "pygments_lexer": "ipython3",
   "version": "3.8.5"
  }
 },
 "nbformat": 4,
 "nbformat_minor": 4
}
